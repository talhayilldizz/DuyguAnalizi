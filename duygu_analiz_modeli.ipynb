{
 "cells": [
  {
   "cell_type": "code",
   "execution_count": 1,
   "id": "1e6f56f9",
   "metadata": {
    "_cell_guid": "b1076dfc-b9ad-4769-8c92-a6c4dae69d19",
    "_uuid": "8f2839f25d086af736a60e9eeb907d3b93b6e0e5",
    "execution": {
     "iopub.execute_input": "2025-05-15T13:55:14.322321Z",
     "iopub.status.busy": "2025-05-15T13:55:14.321966Z",
     "iopub.status.idle": "2025-05-15T13:55:16.446991Z",
     "shell.execute_reply": "2025-05-15T13:55:16.445907Z"
    },
    "papermill": {
     "duration": 2.134845,
     "end_time": "2025-05-15T13:55:16.448604",
     "exception": false,
     "start_time": "2025-05-15T13:55:14.313759",
     "status": "completed"
    },
    "tags": []
   },
   "outputs": [
    {
     "name": "stdout",
     "output_type": "stream",
     "text": [
      "/kaggle/input/duygu-analizi-icin-urun-yorumlari/magaza_yorumlari_duygu_analizi.csv\n"
     ]
    }
   ],
   "source": [
    "# This Python 3 environment comes with many helpful analytics libraries installed\n",
    "# It is defined by the kaggle/python Docker image: https://github.com/kaggle/docker-python\n",
    "# For example, here's several helpful packages to load\n",
    "\n",
    "import numpy as np # linear algebra\n",
    "import pandas as pd # data processing, CSV file I/O (e.g. pd.read_csv)\n",
    "\n",
    "# Input data files are available in the read-only \"../input/\" directory\n",
    "# For example, running this (by clicking run or pressing Shift+Enter) will list all files under the input directory\n",
    "\n",
    "import os\n",
    "for dirname, _, filenames in os.walk('/kaggle/input'):\n",
    "    for filename in filenames:\n",
    "        print(os.path.join(dirname, filename))\n",
    "\n",
    "# You can write up to 20GB to the current directory (/kaggle/working/) that gets preserved as output when you create a version using \"Save & Run All\" \n",
    "# You can also write temporary files to /kaggle/temp/, but they won't be saved outside of the current session"
   ]
  },
  {
   "cell_type": "code",
   "execution_count": 2,
   "id": "6832c805",
   "metadata": {
    "execution": {
     "iopub.execute_input": "2025-05-15T13:55:16.462265Z",
     "iopub.status.busy": "2025-05-15T13:55:16.461799Z",
     "iopub.status.idle": "2025-05-15T13:55:16.598391Z",
     "shell.execute_reply": "2025-05-15T13:55:16.597462Z"
    },
    "papermill": {
     "duration": 0.145548,
     "end_time": "2025-05-15T13:55:16.600223",
     "exception": false,
     "start_time": "2025-05-15T13:55:16.454675",
     "status": "completed"
    },
    "tags": []
   },
   "outputs": [],
   "source": [
    "df=pd.read_csv(\"/kaggle/input/duygu-analizi-icin-urun-yorumlari/magaza_yorumlari_duygu_analizi.csv\",encoding=\"utf-16\")"
   ]
  },
  {
   "cell_type": "code",
   "execution_count": 3,
   "id": "1f53202f",
   "metadata": {
    "execution": {
     "iopub.execute_input": "2025-05-15T13:55:16.613839Z",
     "iopub.status.busy": "2025-05-15T13:55:16.613422Z",
     "iopub.status.idle": "2025-05-15T13:55:16.643555Z",
     "shell.execute_reply": "2025-05-15T13:55:16.642189Z"
    },
    "papermill": {
     "duration": 0.041325,
     "end_time": "2025-05-15T13:55:16.647451",
     "exception": false,
     "start_time": "2025-05-15T13:55:16.606126",
     "status": "completed"
    },
    "tags": []
   },
   "outputs": [
    {
     "data": {
      "text/html": [
       "<div>\n",
       "<style scoped>\n",
       "    .dataframe tbody tr th:only-of-type {\n",
       "        vertical-align: middle;\n",
       "    }\n",
       "\n",
       "    .dataframe tbody tr th {\n",
       "        vertical-align: top;\n",
       "    }\n",
       "\n",
       "    .dataframe thead th {\n",
       "        text-align: right;\n",
       "    }\n",
       "</style>\n",
       "<table border=\"1\" class=\"dataframe\">\n",
       "  <thead>\n",
       "    <tr style=\"text-align: right;\">\n",
       "      <th></th>\n",
       "      <th>Görüş</th>\n",
       "      <th>Durum</th>\n",
       "    </tr>\n",
       "  </thead>\n",
       "  <tbody>\n",
       "    <tr>\n",
       "      <th>0</th>\n",
       "      <td>ses kalitesi ve ergonomisi rezalet, sony olduğ...</td>\n",
       "      <td>Olumsuz</td>\n",
       "    </tr>\n",
       "    <tr>\n",
       "      <th>1</th>\n",
       "      <td>hizli teslimat tesekkürler</td>\n",
       "      <td>Tarafsız</td>\n",
       "    </tr>\n",
       "    <tr>\n",
       "      <th>2</th>\n",
       "      <td>ses olayı süper....gece çalıştır sıkıntı yok.....</td>\n",
       "      <td>Olumlu</td>\n",
       "    </tr>\n",
       "    <tr>\n",
       "      <th>3</th>\n",
       "      <td>geldi bigün kullandık hemen bozoldu hiçtavsiye...</td>\n",
       "      <td>Olumsuz</td>\n",
       "    </tr>\n",
       "    <tr>\n",
       "      <th>4</th>\n",
       "      <td>Kulaklığın sesi kaliteli falan değil. Aleti öv...</td>\n",
       "      <td>Olumsuz</td>\n",
       "    </tr>\n",
       "  </tbody>\n",
       "</table>\n",
       "</div>"
      ],
      "text/plain": [
       "                                               Görüş     Durum\n",
       "0  ses kalitesi ve ergonomisi rezalet, sony olduğ...   Olumsuz\n",
       "1                         hizli teslimat tesekkürler  Tarafsız\n",
       "2  ses olayı süper....gece çalıştır sıkıntı yok.....    Olumlu\n",
       "3  geldi bigün kullandık hemen bozoldu hiçtavsiye...   Olumsuz\n",
       "4  Kulaklığın sesi kaliteli falan değil. Aleti öv...   Olumsuz"
      ]
     },
     "execution_count": 3,
     "metadata": {},
     "output_type": "execute_result"
    }
   ],
   "source": [
    "df.head()"
   ]
  },
  {
   "cell_type": "code",
   "execution_count": 4,
   "id": "40fd9224",
   "metadata": {
    "execution": {
     "iopub.execute_input": "2025-05-15T13:55:16.666950Z",
     "iopub.status.busy": "2025-05-15T13:55:16.666660Z",
     "iopub.status.idle": "2025-05-15T13:55:16.683187Z",
     "shell.execute_reply": "2025-05-15T13:55:16.682168Z"
    },
    "papermill": {
     "duration": 0.027555,
     "end_time": "2025-05-15T13:55:16.685303",
     "exception": false,
     "start_time": "2025-05-15T13:55:16.657748",
     "status": "completed"
    },
    "tags": []
   },
   "outputs": [
    {
     "data": {
      "text/plain": [
       "Durum\n",
       "Olumlu      4253\n",
       "Olumsuz     4238\n",
       "Tarafsız    2938\n",
       "Name: count, dtype: int64"
      ]
     },
     "execution_count": 4,
     "metadata": {},
     "output_type": "execute_result"
    }
   ],
   "source": [
    "df[\"Durum\"].value_counts()"
   ]
  },
  {
   "cell_type": "code",
   "execution_count": 5,
   "id": "5ab71570",
   "metadata": {
    "execution": {
     "iopub.execute_input": "2025-05-15T13:55:16.704411Z",
     "iopub.status.busy": "2025-05-15T13:55:16.703640Z",
     "iopub.status.idle": "2025-05-15T13:55:19.442494Z",
     "shell.execute_reply": "2025-05-15T13:55:19.441577Z"
    },
    "papermill": {
     "duration": 2.749814,
     "end_time": "2025-05-15T13:55:19.444286",
     "exception": false,
     "start_time": "2025-05-15T13:55:16.694472",
     "status": "completed"
    },
    "tags": []
   },
   "outputs": [],
   "source": [
    "import re\n",
    "import nltk\n",
    "from nltk.corpus import stopwords"
   ]
  },
  {
   "cell_type": "markdown",
   "id": "1d171157",
   "metadata": {
    "papermill": {
     "duration": 0.006037,
     "end_time": "2025-05-15T13:55:19.456465",
     "exception": false,
     "start_time": "2025-05-15T13:55:19.450428",
     "status": "completed"
    },
    "tags": []
   },
   "source": [
    "# Temizleme"
   ]
  },
  {
   "cell_type": "code",
   "execution_count": 6,
   "id": "b30b6f53",
   "metadata": {
    "execution": {
     "iopub.execute_input": "2025-05-15T13:55:19.469575Z",
     "iopub.status.busy": "2025-05-15T13:55:19.468780Z",
     "iopub.status.idle": "2025-05-15T13:55:19.565435Z",
     "shell.execute_reply": "2025-05-15T13:55:19.564476Z"
    },
    "papermill": {
     "duration": 0.104742,
     "end_time": "2025-05-15T13:55:19.566956",
     "exception": false,
     "start_time": "2025-05-15T13:55:19.462214",
     "status": "completed"
    },
    "tags": []
   },
   "outputs": [
    {
     "name": "stderr",
     "output_type": "stream",
     "text": [
      "[nltk_data] Downloading package stopwords to /usr/share/nltk_data...\n",
      "[nltk_data]   Package stopwords is already up-to-date!\n"
     ]
    }
   ],
   "source": [
    "nltk.download(\"stopwords\")\n",
    "turkce_stopwords=stopwords.words(\"turkish\")"
   ]
  },
  {
   "cell_type": "code",
   "execution_count": 7,
   "id": "bf0a57ee",
   "metadata": {
    "execution": {
     "iopub.execute_input": "2025-05-15T13:55:19.580161Z",
     "iopub.status.busy": "2025-05-15T13:55:19.579695Z",
     "iopub.status.idle": "2025-05-15T13:55:19.585874Z",
     "shell.execute_reply": "2025-05-15T13:55:19.585082Z"
    },
    "papermill": {
     "duration": 0.01436,
     "end_time": "2025-05-15T13:55:19.587409",
     "exception": false,
     "start_time": "2025-05-15T13:55:19.573049",
     "status": "completed"
    },
    "tags": []
   },
   "outputs": [
    {
     "data": {
      "text/plain": [
       "['acaba',\n",
       " 'ama',\n",
       " 'aslında',\n",
       " 'az',\n",
       " 'bazı',\n",
       " 'belki',\n",
       " 'biri',\n",
       " 'birkaç',\n",
       " 'birşey',\n",
       " 'biz',\n",
       " 'bu',\n",
       " 'çok',\n",
       " 'çünkü',\n",
       " 'da',\n",
       " 'daha',\n",
       " 'de',\n",
       " 'defa',\n",
       " 'diye',\n",
       " 'eğer',\n",
       " 'en',\n",
       " 'gibi',\n",
       " 'hem',\n",
       " 'hep',\n",
       " 'hepsi',\n",
       " 'her',\n",
       " 'hiç',\n",
       " 'için',\n",
       " 'ile',\n",
       " 'ise',\n",
       " 'kez',\n",
       " 'ki',\n",
       " 'kim',\n",
       " 'mı',\n",
       " 'mu',\n",
       " 'mü',\n",
       " 'nasıl',\n",
       " 'ne',\n",
       " 'neden',\n",
       " 'nerde',\n",
       " 'nerede',\n",
       " 'nereye',\n",
       " 'niçin',\n",
       " 'niye',\n",
       " 'o',\n",
       " 'sanki',\n",
       " 'şey',\n",
       " 'siz',\n",
       " 'şu',\n",
       " 'tüm',\n",
       " 've',\n",
       " 'veya',\n",
       " 'ya',\n",
       " 'yani']"
      ]
     },
     "execution_count": 7,
     "metadata": {},
     "output_type": "execute_result"
    }
   ],
   "source": [
    "turkce_stopwords"
   ]
  },
  {
   "cell_type": "code",
   "execution_count": 8,
   "id": "a0cc1b1c",
   "metadata": {
    "execution": {
     "iopub.execute_input": "2025-05-15T13:55:19.600903Z",
     "iopub.status.busy": "2025-05-15T13:55:19.600244Z",
     "iopub.status.idle": "2025-05-15T13:55:19.605627Z",
     "shell.execute_reply": "2025-05-15T13:55:19.604863Z"
    },
    "papermill": {
     "duration": 0.01356,
     "end_time": "2025-05-15T13:55:19.606995",
     "exception": false,
     "start_time": "2025-05-15T13:55:19.593435",
     "status": "completed"
    },
    "tags": []
   },
   "outputs": [],
   "source": [
    "def temizle(metin):\n",
    "    if pd.isnull(metin):\n",
    "        return \"\"\n",
    "\n",
    "    metin=str(metin).lower()\n",
    "    metin=re.sub(r'[^a-zçğıöşü\\s]', '', metin)\n",
    "    metin=' '.join([kelime for kelime in metin.split() if kelime not in turkce_stopwords])\n",
    "\n",
    "    return metin"
   ]
  },
  {
   "cell_type": "markdown",
   "id": "569781f8",
   "metadata": {
    "papermill": {
     "duration": 0.005652,
     "end_time": "2025-05-15T13:55:19.618609",
     "exception": false,
     "start_time": "2025-05-15T13:55:19.612957",
     "status": "completed"
    },
    "tags": []
   },
   "source": [
    "* Fonksiyona gelen metinlerin tüm harflerini küçülttük\n",
    "* Harf dışındaki tüm karakterleri sildik\n",
    "* Metinlerde geçen stopword'leri kaldırdık"
   ]
  },
  {
   "cell_type": "markdown",
   "id": "7e0350ee",
   "metadata": {
    "papermill": {
     "duration": 0.005439,
     "end_time": "2025-05-15T13:55:19.630719",
     "exception": false,
     "start_time": "2025-05-15T13:55:19.625280",
     "status": "completed"
    },
    "tags": []
   },
   "source": [
    "-----------------------"
   ]
  },
  {
   "cell_type": "code",
   "execution_count": 9,
   "id": "c161677c",
   "metadata": {
    "execution": {
     "iopub.execute_input": "2025-05-15T13:55:19.643827Z",
     "iopub.status.busy": "2025-05-15T13:55:19.643277Z",
     "iopub.status.idle": "2025-05-15T13:55:19.946692Z",
     "shell.execute_reply": "2025-05-15T13:55:19.945891Z"
    },
    "papermill": {
     "duration": 0.311756,
     "end_time": "2025-05-15T13:55:19.948231",
     "exception": false,
     "start_time": "2025-05-15T13:55:19.636475",
     "status": "completed"
    },
    "tags": []
   },
   "outputs": [
    {
     "data": {
      "text/html": [
       "<div>\n",
       "<style scoped>\n",
       "    .dataframe tbody tr th:only-of-type {\n",
       "        vertical-align: middle;\n",
       "    }\n",
       "\n",
       "    .dataframe tbody tr th {\n",
       "        vertical-align: top;\n",
       "    }\n",
       "\n",
       "    .dataframe thead th {\n",
       "        text-align: right;\n",
       "    }\n",
       "</style>\n",
       "<table border=\"1\" class=\"dataframe\">\n",
       "  <thead>\n",
       "    <tr style=\"text-align: right;\">\n",
       "      <th></th>\n",
       "      <th>Görüş</th>\n",
       "      <th>temiz_yorum</th>\n",
       "    </tr>\n",
       "  </thead>\n",
       "  <tbody>\n",
       "    <tr>\n",
       "      <th>0</th>\n",
       "      <td>ses kalitesi ve ergonomisi rezalet, sony olduğ...</td>\n",
       "      <td>ses kalitesi ergonomisi rezalet sony olduğu al...</td>\n",
       "    </tr>\n",
       "    <tr>\n",
       "      <th>1</th>\n",
       "      <td>hizli teslimat tesekkürler</td>\n",
       "      <td>hizli teslimat tesekkürler</td>\n",
       "    </tr>\n",
       "    <tr>\n",
       "      <th>2</th>\n",
       "      <td>ses olayı süper....gece çalıştır sıkıntı yok.....</td>\n",
       "      <td>ses olayı süpergece çalıştır sıkıntı yokkablo ...</td>\n",
       "    </tr>\n",
       "    <tr>\n",
       "      <th>3</th>\n",
       "      <td>geldi bigün kullandık hemen bozoldu hiçtavsiye...</td>\n",
       "      <td>geldi bigün kullandık hemen bozoldu hiçtavsiye...</td>\n",
       "    </tr>\n",
       "    <tr>\n",
       "      <th>4</th>\n",
       "      <td>Kulaklığın sesi kaliteli falan değil. Aleti öv...</td>\n",
       "      <td>kulaklığın sesi kaliteli falan değil aleti öve...</td>\n",
       "    </tr>\n",
       "    <tr>\n",
       "      <th>5</th>\n",
       "      <td>Giriş seviyesindeki kullanıcılar için kabul ed...</td>\n",
       "      <td>giriş seviyesindeki kullanıcılar kabul edilebi...</td>\n",
       "    </tr>\n",
       "    <tr>\n",
       "      <th>6</th>\n",
       "      <td>kullanisli baya</td>\n",
       "      <td>kullanisli baya</td>\n",
       "    </tr>\n",
       "    <tr>\n",
       "      <th>7</th>\n",
       "      <td>Dezavantajlar : Pahalı ürün&lt;br /&gt;Merhabalar bu...</td>\n",
       "      <td>dezavantajlar pahalı ürünbr merhabalar lens ba...</td>\n",
       "    </tr>\n",
       "    <tr>\n",
       "      <th>8</th>\n",
       "      <td>ÜRÜN GÜZEL BU PARALARA BAŞKA BULAMAZSINIZ</td>\n",
       "      <td>ürün güzel paralara başka bulamazsiniz</td>\n",
       "    </tr>\n",
       "    <tr>\n",
       "      <th>9</th>\n",
       "      <td>Tasarım ve kalite iyi olmasına rağmen yazma hı...</td>\n",
       "      <td>tasarım kalite iyi olmasına rağmen yazma hızı ...</td>\n",
       "    </tr>\n",
       "  </tbody>\n",
       "</table>\n",
       "</div>"
      ],
      "text/plain": [
       "                                               Görüş  \\\n",
       "0  ses kalitesi ve ergonomisi rezalet, sony olduğ...   \n",
       "1                         hizli teslimat tesekkürler   \n",
       "2  ses olayı süper....gece çalıştır sıkıntı yok.....   \n",
       "3  geldi bigün kullandık hemen bozoldu hiçtavsiye...   \n",
       "4  Kulaklığın sesi kaliteli falan değil. Aleti öv...   \n",
       "5  Giriş seviyesindeki kullanıcılar için kabul ed...   \n",
       "6                                    kullanisli baya   \n",
       "7  Dezavantajlar : Pahalı ürün<br />Merhabalar bu...   \n",
       "8          ÜRÜN GÜZEL BU PARALARA BAŞKA BULAMAZSINIZ   \n",
       "9  Tasarım ve kalite iyi olmasına rağmen yazma hı...   \n",
       "\n",
       "                                         temiz_yorum  \n",
       "0  ses kalitesi ergonomisi rezalet sony olduğu al...  \n",
       "1                         hizli teslimat tesekkürler  \n",
       "2  ses olayı süpergece çalıştır sıkıntı yokkablo ...  \n",
       "3  geldi bigün kullandık hemen bozoldu hiçtavsiye...  \n",
       "4  kulaklığın sesi kaliteli falan değil aleti öve...  \n",
       "5  giriş seviyesindeki kullanıcılar kabul edilebi...  \n",
       "6                                    kullanisli baya  \n",
       "7  dezavantajlar pahalı ürünbr merhabalar lens ba...  \n",
       "8             ürün güzel paralara başka bulamazsiniz  \n",
       "9  tasarım kalite iyi olmasına rağmen yazma hızı ...  "
      ]
     },
     "execution_count": 9,
     "metadata": {},
     "output_type": "execute_result"
    }
   ],
   "source": [
    "df[\"temiz_yorum\"]=df[\"Görüş\"].apply(temizle)\n",
    "df[[\"Görüş\",\"temiz_yorum\"]].head(10)"
   ]
  },
  {
   "cell_type": "markdown",
   "id": "c5012ac0",
   "metadata": {
    "papermill": {
     "duration": 0.005781,
     "end_time": "2025-05-15T13:55:19.960236",
     "exception": false,
     "start_time": "2025-05-15T13:55:19.954455",
     "status": "completed"
    },
    "tags": []
   },
   "source": [
    "* apply fonksiyonu her satırdaki yorumu alır, temizle() fonksiyonuna gönderir ve sonucu yeni sütuna yazar."
   ]
  },
  {
   "cell_type": "markdown",
   "id": "b45830ee",
   "metadata": {
    "papermill": {
     "duration": 0.00558,
     "end_time": "2025-05-15T13:55:19.971925",
     "exception": false,
     "start_time": "2025-05-15T13:55:19.966345",
     "status": "completed"
    },
    "tags": []
   },
   "source": [
    "-------------------------------------"
   ]
  },
  {
   "cell_type": "code",
   "execution_count": 10,
   "id": "5caee350",
   "metadata": {
    "execution": {
     "iopub.execute_input": "2025-05-15T13:55:19.985425Z",
     "iopub.status.busy": "2025-05-15T13:55:19.984757Z",
     "iopub.status.idle": "2025-05-15T13:55:19.988701Z",
     "shell.execute_reply": "2025-05-15T13:55:19.987995Z"
    },
    "papermill": {
     "duration": 0.012164,
     "end_time": "2025-05-15T13:55:19.989995",
     "exception": false,
     "start_time": "2025-05-15T13:55:19.977831",
     "status": "completed"
    },
    "tags": []
   },
   "outputs": [],
   "source": [
    "from sklearn.preprocessing import LabelEncoder"
   ]
  },
  {
   "cell_type": "code",
   "execution_count": 11,
   "id": "5a0e1dd6",
   "metadata": {
    "execution": {
     "iopub.execute_input": "2025-05-15T13:55:20.003181Z",
     "iopub.status.busy": "2025-05-15T13:55:20.002861Z",
     "iopub.status.idle": "2025-05-15T13:55:20.016056Z",
     "shell.execute_reply": "2025-05-15T13:55:20.015170Z"
    },
    "papermill": {
     "duration": 0.021556,
     "end_time": "2025-05-15T13:55:20.017620",
     "exception": false,
     "start_time": "2025-05-15T13:55:19.996064",
     "status": "completed"
    },
    "tags": []
   },
   "outputs": [
    {
     "data": {
      "text/html": [
       "<div>\n",
       "<style scoped>\n",
       "    .dataframe tbody tr th:only-of-type {\n",
       "        vertical-align: middle;\n",
       "    }\n",
       "\n",
       "    .dataframe tbody tr th {\n",
       "        vertical-align: top;\n",
       "    }\n",
       "\n",
       "    .dataframe thead th {\n",
       "        text-align: right;\n",
       "    }\n",
       "</style>\n",
       "<table border=\"1\" class=\"dataframe\">\n",
       "  <thead>\n",
       "    <tr style=\"text-align: right;\">\n",
       "      <th></th>\n",
       "      <th>Durum</th>\n",
       "      <th>Duygu</th>\n",
       "    </tr>\n",
       "  </thead>\n",
       "  <tbody>\n",
       "    <tr>\n",
       "      <th>0</th>\n",
       "      <td>Olumsuz</td>\n",
       "      <td>1</td>\n",
       "    </tr>\n",
       "    <tr>\n",
       "      <th>1</th>\n",
       "      <td>Tarafsız</td>\n",
       "      <td>2</td>\n",
       "    </tr>\n",
       "    <tr>\n",
       "      <th>2</th>\n",
       "      <td>Olumlu</td>\n",
       "      <td>0</td>\n",
       "    </tr>\n",
       "    <tr>\n",
       "      <th>3</th>\n",
       "      <td>Olumsuz</td>\n",
       "      <td>1</td>\n",
       "    </tr>\n",
       "    <tr>\n",
       "      <th>4</th>\n",
       "      <td>Olumsuz</td>\n",
       "      <td>1</td>\n",
       "    </tr>\n",
       "  </tbody>\n",
       "</table>\n",
       "</div>"
      ],
      "text/plain": [
       "      Durum  Duygu\n",
       "0   Olumsuz      1\n",
       "1  Tarafsız      2\n",
       "2    Olumlu      0\n",
       "3   Olumsuz      1\n",
       "4   Olumsuz      1"
      ]
     },
     "execution_count": 11,
     "metadata": {},
     "output_type": "execute_result"
    }
   ],
   "source": [
    "le=LabelEncoder()\n",
    "\n",
    "df[\"Duygu\"]=le.fit_transform(df[\"Durum\"])\n",
    "df[[\"Durum\",\"Duygu\"]].head()"
   ]
  },
  {
   "cell_type": "markdown",
   "id": "249ea6ae",
   "metadata": {
    "papermill": {
     "duration": 0.005947,
     "end_time": "2025-05-15T13:55:20.029993",
     "exception": false,
     "start_time": "2025-05-15T13:55:20.024046",
     "status": "completed"
    },
    "tags": []
   },
   "source": [
    "\"Durum\" sütununu etiketlere ayırarak \"Duygu\" adında yeni sütuna yazdık"
   ]
  },
  {
   "cell_type": "markdown",
   "id": "bc7e7ddb",
   "metadata": {
    "papermill": {
     "duration": 0.005907,
     "end_time": "2025-05-15T13:55:20.042209",
     "exception": false,
     "start_time": "2025-05-15T13:55:20.036302",
     "status": "completed"
    },
    "tags": []
   },
   "source": [
    "-----------------"
   ]
  },
  {
   "cell_type": "markdown",
   "id": "d6a2d9bb",
   "metadata": {
    "papermill": {
     "duration": 0.00587,
     "end_time": "2025-05-15T13:55:20.054318",
     "exception": false,
     "start_time": "2025-05-15T13:55:20.048448",
     "status": "completed"
    },
    "tags": []
   },
   "source": [
    "# MODEL"
   ]
  },
  {
   "cell_type": "code",
   "execution_count": 12,
   "id": "5b24d638",
   "metadata": {
    "execution": {
     "iopub.execute_input": "2025-05-15T13:55:20.068379Z",
     "iopub.status.busy": "2025-05-15T13:55:20.067637Z",
     "iopub.status.idle": "2025-05-15T13:55:20.071729Z",
     "shell.execute_reply": "2025-05-15T13:55:20.070950Z"
    },
    "papermill": {
     "duration": 0.012677,
     "end_time": "2025-05-15T13:55:20.073274",
     "exception": false,
     "start_time": "2025-05-15T13:55:20.060597",
     "status": "completed"
    },
    "tags": []
   },
   "outputs": [],
   "source": [
    "from sklearn.model_selection import train_test_split"
   ]
  },
  {
   "cell_type": "code",
   "execution_count": 13,
   "id": "b853525e",
   "metadata": {
    "execution": {
     "iopub.execute_input": "2025-05-15T13:55:20.087315Z",
     "iopub.status.busy": "2025-05-15T13:55:20.086648Z",
     "iopub.status.idle": "2025-05-15T13:55:20.094942Z",
     "shell.execute_reply": "2025-05-15T13:55:20.094022Z"
    },
    "papermill": {
     "duration": 0.016984,
     "end_time": "2025-05-15T13:55:20.096625",
     "exception": false,
     "start_time": "2025-05-15T13:55:20.079641",
     "status": "completed"
    },
    "tags": []
   },
   "outputs": [],
   "source": [
    "X=df[\"temiz_yorum\"]\n",
    "y=df[\"Duygu\"]\n",
    "\n",
    "X_train,X_test,y_train,y_test=train_test_split(X,y,test_size=0.2,random_state=42)"
   ]
  },
  {
   "cell_type": "markdown",
   "id": "8d56124a",
   "metadata": {
    "papermill": {
     "duration": 0.005959,
     "end_time": "2025-05-15T13:55:20.108925",
     "exception": false,
     "start_time": "2025-05-15T13:55:20.102966",
     "status": "completed"
    },
    "tags": []
   },
   "source": [
    "* Verinin %80'i eğitime, %20'si test için ayrıldı"
   ]
  },
  {
   "cell_type": "markdown",
   "id": "2ce168a2",
   "metadata": {
    "papermill": {
     "duration": 0.005845,
     "end_time": "2025-05-15T13:55:20.121038",
     "exception": false,
     "start_time": "2025-05-15T13:55:20.115193",
     "status": "completed"
    },
    "tags": []
   },
   "source": [
    "--------------"
   ]
  },
  {
   "cell_type": "code",
   "execution_count": 14,
   "id": "43ebdd3f",
   "metadata": {
    "execution": {
     "iopub.execute_input": "2025-05-15T13:55:20.135407Z",
     "iopub.status.busy": "2025-05-15T13:55:20.134570Z",
     "iopub.status.idle": "2025-05-15T13:55:20.149841Z",
     "shell.execute_reply": "2025-05-15T13:55:20.148882Z"
    },
    "papermill": {
     "duration": 0.024191,
     "end_time": "2025-05-15T13:55:20.151464",
     "exception": false,
     "start_time": "2025-05-15T13:55:20.127273",
     "status": "completed"
    },
    "tags": []
   },
   "outputs": [],
   "source": [
    "from sklearn.feature_extraction.text import TfidfVectorizer\n",
    "from sklearn.naive_bayes import MultinomialNB\n",
    "from sklearn.metrics import accuracy_score,classification_report"
   ]
  },
  {
   "cell_type": "code",
   "execution_count": 15,
   "id": "7f436acf",
   "metadata": {
    "execution": {
     "iopub.execute_input": "2025-05-15T13:55:20.165639Z",
     "iopub.status.busy": "2025-05-15T13:55:20.165338Z",
     "iopub.status.idle": "2025-05-15T13:55:20.529168Z",
     "shell.execute_reply": "2025-05-15T13:55:20.528369Z"
    },
    "papermill": {
     "duration": 0.372857,
     "end_time": "2025-05-15T13:55:20.530821",
     "exception": false,
     "start_time": "2025-05-15T13:55:20.157964",
     "status": "completed"
    },
    "tags": []
   },
   "outputs": [],
   "source": [
    "vektorizer=TfidfVectorizer(max_features=5000)\n",
    "X_train_df=vektorizer.fit_transform(X_train)\n",
    "X_test_df=vektorizer.transform(X_test)"
   ]
  },
  {
   "cell_type": "markdown",
   "id": "9f631d81",
   "metadata": {
    "papermill": {
     "duration": 0.005965,
     "end_time": "2025-05-15T13:55:20.543228",
     "exception": false,
     "start_time": "2025-05-15T13:55:20.537263",
     "status": "completed"
    },
    "tags": []
   },
   "source": [
    "* Makine öğrenmesi modelleri sayı ile çalıştığı için metinleri sayıya çevirmemiz lazım. Yukarda bu işlemi yaptık.\n",
    "* Tf-idf ile metinde geçen kelimelerin önem derecesini belirledik\n",
    "    * TF: Bir kelimenin yorum içinde kaç kez geçtiğini ifade eder.\n",
    "    * IDF: Bu kelimenin tüm yorumlar arasında ne kadar yaygın olduğunu ifade eder."
   ]
  },
  {
   "cell_type": "markdown",
   "id": "8b07d7c6",
   "metadata": {
    "papermill": {
     "duration": 0.005882,
     "end_time": "2025-05-15T13:55:20.555332",
     "exception": false,
     "start_time": "2025-05-15T13:55:20.549450",
     "status": "completed"
    },
    "tags": []
   },
   "source": [
    "----------------"
   ]
  },
  {
   "cell_type": "code",
   "execution_count": 16,
   "id": "a5fd2376",
   "metadata": {
    "execution": {
     "iopub.execute_input": "2025-05-15T13:55:20.569067Z",
     "iopub.status.busy": "2025-05-15T13:55:20.568467Z",
     "iopub.status.idle": "2025-05-15T13:55:20.606561Z",
     "shell.execute_reply": "2025-05-15T13:55:20.605674Z"
    },
    "papermill": {
     "duration": 0.046635,
     "end_time": "2025-05-15T13:55:20.608172",
     "exception": false,
     "start_time": "2025-05-15T13:55:20.561537",
     "status": "completed"
    },
    "tags": []
   },
   "outputs": [
    {
     "data": {
      "text/html": [
       "<style>#sk-container-id-1 {color: black;background-color: white;}#sk-container-id-1 pre{padding: 0;}#sk-container-id-1 div.sk-toggleable {background-color: white;}#sk-container-id-1 label.sk-toggleable__label {cursor: pointer;display: block;width: 100%;margin-bottom: 0;padding: 0.3em;box-sizing: border-box;text-align: center;}#sk-container-id-1 label.sk-toggleable__label-arrow:before {content: \"▸\";float: left;margin-right: 0.25em;color: #696969;}#sk-container-id-1 label.sk-toggleable__label-arrow:hover:before {color: black;}#sk-container-id-1 div.sk-estimator:hover label.sk-toggleable__label-arrow:before {color: black;}#sk-container-id-1 div.sk-toggleable__content {max-height: 0;max-width: 0;overflow: hidden;text-align: left;background-color: #f0f8ff;}#sk-container-id-1 div.sk-toggleable__content pre {margin: 0.2em;color: black;border-radius: 0.25em;background-color: #f0f8ff;}#sk-container-id-1 input.sk-toggleable__control:checked~div.sk-toggleable__content {max-height: 200px;max-width: 100%;overflow: auto;}#sk-container-id-1 input.sk-toggleable__control:checked~label.sk-toggleable__label-arrow:before {content: \"▾\";}#sk-container-id-1 div.sk-estimator input.sk-toggleable__control:checked~label.sk-toggleable__label {background-color: #d4ebff;}#sk-container-id-1 div.sk-label input.sk-toggleable__control:checked~label.sk-toggleable__label {background-color: #d4ebff;}#sk-container-id-1 input.sk-hidden--visually {border: 0;clip: rect(1px 1px 1px 1px);clip: rect(1px, 1px, 1px, 1px);height: 1px;margin: -1px;overflow: hidden;padding: 0;position: absolute;width: 1px;}#sk-container-id-1 div.sk-estimator {font-family: monospace;background-color: #f0f8ff;border: 1px dotted black;border-radius: 0.25em;box-sizing: border-box;margin-bottom: 0.5em;}#sk-container-id-1 div.sk-estimator:hover {background-color: #d4ebff;}#sk-container-id-1 div.sk-parallel-item::after {content: \"\";width: 100%;border-bottom: 1px solid gray;flex-grow: 1;}#sk-container-id-1 div.sk-label:hover label.sk-toggleable__label {background-color: #d4ebff;}#sk-container-id-1 div.sk-serial::before {content: \"\";position: absolute;border-left: 1px solid gray;box-sizing: border-box;top: 0;bottom: 0;left: 50%;z-index: 0;}#sk-container-id-1 div.sk-serial {display: flex;flex-direction: column;align-items: center;background-color: white;padding-right: 0.2em;padding-left: 0.2em;position: relative;}#sk-container-id-1 div.sk-item {position: relative;z-index: 1;}#sk-container-id-1 div.sk-parallel {display: flex;align-items: stretch;justify-content: center;background-color: white;position: relative;}#sk-container-id-1 div.sk-item::before, #sk-container-id-1 div.sk-parallel-item::before {content: \"\";position: absolute;border-left: 1px solid gray;box-sizing: border-box;top: 0;bottom: 0;left: 50%;z-index: -1;}#sk-container-id-1 div.sk-parallel-item {display: flex;flex-direction: column;z-index: 1;position: relative;background-color: white;}#sk-container-id-1 div.sk-parallel-item:first-child::after {align-self: flex-end;width: 50%;}#sk-container-id-1 div.sk-parallel-item:last-child::after {align-self: flex-start;width: 50%;}#sk-container-id-1 div.sk-parallel-item:only-child::after {width: 0;}#sk-container-id-1 div.sk-dashed-wrapped {border: 1px dashed gray;margin: 0 0.4em 0.5em 0.4em;box-sizing: border-box;padding-bottom: 0.4em;background-color: white;}#sk-container-id-1 div.sk-label label {font-family: monospace;font-weight: bold;display: inline-block;line-height: 1.2em;}#sk-container-id-1 div.sk-label-container {text-align: center;}#sk-container-id-1 div.sk-container {/* jupyter's `normalize.less` sets `[hidden] { display: none; }` but bootstrap.min.css set `[hidden] { display: none !important; }` so we also need the `!important` here to be able to override the default hidden behavior on the sphinx rendered scikit-learn.org. See: https://github.com/scikit-learn/scikit-learn/issues/21755 */display: inline-block !important;position: relative;}#sk-container-id-1 div.sk-text-repr-fallback {display: none;}</style><div id=\"sk-container-id-1\" class=\"sk-top-container\"><div class=\"sk-text-repr-fallback\"><pre>MultinomialNB()</pre><b>In a Jupyter environment, please rerun this cell to show the HTML representation or trust the notebook. <br />On GitHub, the HTML representation is unable to render, please try loading this page with nbviewer.org.</b></div><div class=\"sk-container\" hidden><div class=\"sk-item\"><div class=\"sk-estimator sk-toggleable\"><input class=\"sk-toggleable__control sk-hidden--visually\" id=\"sk-estimator-id-1\" type=\"checkbox\" checked><label for=\"sk-estimator-id-1\" class=\"sk-toggleable__label sk-toggleable__label-arrow\">MultinomialNB</label><div class=\"sk-toggleable__content\"><pre>MultinomialNB()</pre></div></div></div></div></div>"
      ],
      "text/plain": [
       "MultinomialNB()"
      ]
     },
     "execution_count": 16,
     "metadata": {},
     "output_type": "execute_result"
    }
   ],
   "source": [
    "model=MultinomialNB()\n",
    "\n",
    "model.fit(X_train_df,y_train)"
   ]
  },
  {
   "cell_type": "markdown",
   "id": "eab1f955",
   "metadata": {
    "papermill": {
     "duration": 0.006099,
     "end_time": "2025-05-15T13:55:20.621578",
     "exception": false,
     "start_time": "2025-05-15T13:55:20.615479",
     "status": "completed"
    },
    "tags": []
   },
   "source": [
    "* Bu model, kelime sayımlarına dayalı çalıştığı için TF-IDF ile oluşturulmuş vektörleri işleyebilir."
   ]
  },
  {
   "cell_type": "markdown",
   "id": "cf84a779",
   "metadata": {
    "papermill": {
     "duration": 0.006143,
     "end_time": "2025-05-15T13:55:20.634196",
     "exception": false,
     "start_time": "2025-05-15T13:55:20.628053",
     "status": "completed"
    },
    "tags": []
   },
   "source": [
    "---------------"
   ]
  },
  {
   "cell_type": "code",
   "execution_count": 17,
   "id": "6dde548b",
   "metadata": {
    "execution": {
     "iopub.execute_input": "2025-05-15T13:55:20.648541Z",
     "iopub.status.busy": "2025-05-15T13:55:20.647730Z",
     "iopub.status.idle": "2025-05-15T13:55:20.652872Z",
     "shell.execute_reply": "2025-05-15T13:55:20.652030Z"
    },
    "papermill": {
     "duration": 0.013926,
     "end_time": "2025-05-15T13:55:20.654463",
     "exception": false,
     "start_time": "2025-05-15T13:55:20.640537",
     "status": "completed"
    },
    "tags": []
   },
   "outputs": [],
   "source": [
    "tahminler=model.predict(X_test_df)"
   ]
  },
  {
   "cell_type": "code",
   "execution_count": 18,
   "id": "cabeafe0",
   "metadata": {
    "execution": {
     "iopub.execute_input": "2025-05-15T13:55:20.668567Z",
     "iopub.status.busy": "2025-05-15T13:55:20.668264Z",
     "iopub.status.idle": "2025-05-15T13:55:20.684035Z",
     "shell.execute_reply": "2025-05-15T13:55:20.683150Z"
    },
    "papermill": {
     "duration": 0.024718,
     "end_time": "2025-05-15T13:55:20.685734",
     "exception": false,
     "start_time": "2025-05-15T13:55:20.661016",
     "status": "completed"
    },
    "tags": []
   },
   "outputs": [
    {
     "name": "stdout",
     "output_type": "stream",
     "text": [
      "Doğruluk:  0.6986001749781278\n",
      "\n",
      " Detaylı Rapor: \n",
      "               precision    recall  f1-score   support\n",
      "\n",
      "      Olumlu       0.72      0.88      0.79       855\n",
      "     Olumsuz       0.71      0.79      0.75       852\n",
      "    Tarafsız       0.57      0.29      0.38       579\n",
      "\n",
      "    accuracy                           0.70      2286\n",
      "   macro avg       0.67      0.65      0.64      2286\n",
      "weighted avg       0.68      0.70      0.67      2286\n",
      "\n"
     ]
    }
   ],
   "source": [
    "print(\"Doğruluk: \",accuracy_score(y_test,tahminler))\n",
    "print(\"\\n Detaylı Rapor: \\n\",classification_report(y_test,tahminler,target_names=le.classes_))"
   ]
  },
  {
   "cell_type": "markdown",
   "id": "daa35373",
   "metadata": {
    "papermill": {
     "duration": 0.006054,
     "end_time": "2025-05-15T13:55:20.698323",
     "exception": false,
     "start_time": "2025-05-15T13:55:20.692269",
     "status": "completed"
    },
    "tags": []
   },
   "source": [
    "* Modelin doğruluğu %69-%70\n",
    "* Model olumlu yorumları %72 doğrulukla tahmin etti ve %88’ini yakalayabildi.\n",
    "* Model olumsuz yorumları %71 doğrulukla tahmin etti ve %79’unu yakalayabildi.\n",
    "* Model tarafsız yorumları %57 doğrulukla tahmin etti ve %29'unu yakalayabildi. Model zorlanmış bu kısımda"
   ]
  },
  {
   "cell_type": "markdown",
   "id": "45fb3fde",
   "metadata": {
    "papermill": {
     "duration": 0.00607,
     "end_time": "2025-05-15T13:55:20.711117",
     "exception": false,
     "start_time": "2025-05-15T13:55:20.705047",
     "status": "completed"
    },
    "tags": []
   },
   "source": [
    "------------------------------"
   ]
  },
  {
   "cell_type": "code",
   "execution_count": 19,
   "id": "ef9de17f",
   "metadata": {
    "execution": {
     "iopub.execute_input": "2025-05-15T13:55:20.725306Z",
     "iopub.status.busy": "2025-05-15T13:55:20.724521Z",
     "iopub.status.idle": "2025-05-15T13:55:20.729419Z",
     "shell.execute_reply": "2025-05-15T13:55:20.728514Z"
    },
    "papermill": {
     "duration": 0.013444,
     "end_time": "2025-05-15T13:55:20.730841",
     "exception": false,
     "start_time": "2025-05-15T13:55:20.717397",
     "status": "completed"
    },
    "tags": []
   },
   "outputs": [],
   "source": [
    "def tahmin(metin):\n",
    "    temiz_metin=temizle(metin)\n",
    "    metin_tfidf=vektorizer.transform([temiz_metin])\n",
    "\n",
    "    tahmin=model.predict(metin_tfidf)\n",
    "\n",
    "    return tahmin[0]"
   ]
  },
  {
   "cell_type": "code",
   "execution_count": 20,
   "id": "a918280b",
   "metadata": {
    "execution": {
     "iopub.execute_input": "2025-05-15T13:55:20.745348Z",
     "iopub.status.busy": "2025-05-15T13:55:20.744784Z",
     "iopub.status.idle": "2025-05-15T13:55:20.752159Z",
     "shell.execute_reply": "2025-05-15T13:55:20.751317Z"
    },
    "papermill": {
     "duration": 0.016072,
     "end_time": "2025-05-15T13:55:20.753564",
     "exception": false,
     "start_time": "2025-05-15T13:55:20.737492",
     "status": "completed"
    },
    "tags": []
   },
   "outputs": [
    {
     "name": "stdout",
     "output_type": "stream",
     "text": [
      "Metnin Duygu Durumu Olumlu\n"
     ]
    }
   ],
   "source": [
    "yorum = \"Ürün beklediğimden daha kaliteli çıktı, teşekkür ederim.\"\n",
    "\n",
    "duygu_durumu = tahmin(yorum)\n",
    "\n",
    "if duygu_durumu == 0:\n",
    "    print(\"Metnin Duygu Durumu Olumlu\")\n",
    "elif duygu_durumu == 1:\n",
    "    print(\"Metnin Duygu Durumu Olumsuz\")\n",
    "elif duygu_durumu == 2:\n",
    "    print(\"Metnin Duygu Durumu Tarafsız\")\n",
    "else:\n",
    "    print(\"Bir Durum Belirlenmedi\")"
   ]
  },
  {
   "cell_type": "markdown",
   "id": "d9ab3ad4",
   "metadata": {
    "papermill": {
     "duration": 0.006072,
     "end_time": "2025-05-15T13:55:20.766238",
     "exception": false,
     "start_time": "2025-05-15T13:55:20.760166",
     "status": "completed"
    },
    "tags": []
   },
   "source": [
    "Bir input alarak örnek tahmin yapıyoruz ve modelimiz doğru tahmin yapıyor.\n",
    "\n",
    "**Not Defteri Hakkında Hem Oy Verip Hemde Yorum Yaparsanız Sevinirim.**"
   ]
  }
 ],
 "metadata": {
  "kaggle": {
   "accelerator": "none",
   "dataSources": [
    {
     "datasetId": 923536,
     "sourceId": 1563333,
     "sourceType": "datasetVersion"
    }
   ],
   "dockerImageVersionId": 31040,
   "isGpuEnabled": false,
   "isInternetEnabled": true,
   "language": "python",
   "sourceType": "notebook"
  },
  "kernelspec": {
   "display_name": "Python 3",
   "language": "python",
   "name": "python3"
  },
  "language_info": {
   "codemirror_mode": {
    "name": "ipython",
    "version": 3
   },
   "file_extension": ".py",
   "mimetype": "text/x-python",
   "name": "python",
   "nbconvert_exporter": "python",
   "pygments_lexer": "ipython3",
   "version": "3.11.11"
  },
  "papermill": {
   "default_parameters": {},
   "duration": 12.308466,
   "end_time": "2025-05-15T13:55:21.558922",
   "environment_variables": {},
   "exception": null,
   "input_path": "__notebook__.ipynb",
   "output_path": "__notebook__.ipynb",
   "parameters": {},
   "start_time": "2025-05-15T13:55:09.250456",
   "version": "2.6.0"
  }
 },
 "nbformat": 4,
 "nbformat_minor": 5
}
